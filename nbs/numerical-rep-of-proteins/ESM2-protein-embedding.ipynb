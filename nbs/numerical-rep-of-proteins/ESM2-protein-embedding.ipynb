{
 "cells": [
  {
   "cell_type": "code",
   "execution_count": null,
   "id": "16bdf386",
   "metadata": {},
   "outputs": [
    {
     "name": "stderr",
     "output_type": "stream",
     "text": [
      "/Users/tungvuduc/opt/anaconda3/envs/deep-learning-for-biology/lib/python3.12/site-packages/tqdm/auto.py:21: TqdmWarning: IProgress not found. Please update jupyter and ipywidgets. See https://ipywidgets.readthedocs.io/en/stable/user_install.html\n",
      "  from .autonotebook import tqdm as notebook_tqdm\n",
      "/Users/tungvuduc/opt/anaconda3/envs/deep-learning-for-biology/lib/python3.12/site-packages/torchvision/io/image.py:14: UserWarning: Failed to load image Python extension: 'dlopen(/Users/tungvuduc/opt/anaconda3/envs/deep-learning-for-biology/lib/python3.12/site-packages/torchvision/image.so, 0x0006): Library not loaded: @rpath/libjpeg.9.dylib\n",
      "  Referenced from: <367D4265-B20F-34BD-94EB-4F3EE47C385B> /Users/tungvuduc/opt/anaconda3/envs/deep-learning-for-biology/lib/python3.12/site-packages/torchvision/image.so\n",
      "  Reason: tried: '/Users/tungvuduc/opt/anaconda3/envs/deep-learning-for-biology/lib/python3.12/site-packages/torchvision/../../../libjpeg.9.dylib' (no such file), '/Users/tungvuduc/opt/anaconda3/envs/deep-learning-for-biology/lib/python3.12/site-packages/torchvision/../../../libjpeg.9.dylib' (no such file), '/Users/tungvuduc/opt/anaconda3/envs/deep-learning-for-biology/lib/python3.12/lib-dynload/../../libjpeg.9.dylib' (no such file), '/Users/tungvuduc/opt/anaconda3/envs/deep-learning-for-biology/bin/../lib/libjpeg.9.dylib' (no such file)'If you don't plan on using image functionality from `torchvision.io`, you can ignore this warning. Otherwise, there might be something wrong with your environment. Did you have `libjpeg` or `libpng` installed before building `torchvision` from source?\n",
      "  warn(\n"
     ]
    }
   ],
   "source": [
    "\n",
    "from dl_biology.helper import aa_encoder\n",
    "from dl_biology.constants import amino_acids\n",
    "import jax\n",
    "from transformers import AutoTokenizer, EsmModel"
   ]
  },
  {
   "cell_type": "code",
   "execution_count": null,
   "id": "83e80442",
   "metadata": {},
   "outputs": [],
   "source": [
    "# let's create a small protein sample\n",
    "tiny_protein = [\"M\", \"A\", \"L\", \"W\", \"M\"]\n",
    "encoded_seq = aa_encoder(tiny_protein)\n",
    "\n",
    "# one hote encoding for AA\n",
    "one_hot_encoded = jax.nn.one_hot(\n",
    "    x=encoded_seq,\n",
    "    num_classes=len(amino_acids)\n",
    ")"
   ]
  },
  {
   "cell_type": "code",
   "execution_count": 15,
   "id": "09f402db",
   "metadata": {},
   "outputs": [
    {
     "name": "stderr",
     "output_type": "stream",
     "text": [
      "Some weights of EsmModel were not initialized from the model checkpoint at facebook/esm2_t33_650M_UR50D and are newly initialized: ['pooler.dense.bias', 'pooler.dense.weight']\n",
      "You should probably TRAIN this model on a down-stream task to be able to use it for predictions and inference.\n"
     ]
    }
   ],
   "source": [
    "model_checkpoint = \"facebook/esm2_t33_650M_UR50D\"\n",
    "tokenizer = AutoTokenizer.from_pretrained(model_checkpoint)\n",
    "model = EsmModel.from_pretrained(model_checkpoint)"
   ]
  },
  {
   "cell_type": "code",
   "execution_count": 29,
   "id": "a048e884",
   "metadata": {},
   "outputs": [
    {
     "data": {
      "text/plain": [
       "tensor([[ 0.0536, -0.0583, -0.1300,  ..., -0.2219,  0.1180, -0.0660],\n",
       "        [ 0.0684,  0.0598, -0.0661,  ...,  0.0154, -0.0333, -0.0883],\n",
       "        [-0.0398, -0.0399, -0.0482,  ..., -0.0551, -0.2134, -0.0727],\n",
       "        ...,\n",
       "        [-0.0337,  0.0796, -0.0527,  ...,  0.0705, -0.0469, -0.0336],\n",
       "        [ 0.0684,  0.0598, -0.0661,  ...,  0.0154, -0.0333, -0.0883],\n",
       "        [-0.0895, -0.0448, -0.0575,  ..., -0.0585,  0.0651, -0.1090]])"
      ]
     },
     "execution_count": 29,
     "metadata": {},
     "output_type": "execute_result"
    }
   ],
   "source": [
    "\n",
    "token_idx = tokenizer(\"MALWNM\").input_ids\n",
    "embeddings = model.get_input_embeddings().weight.detach()\n",
    "\n",
    "embeddings[token_idx]"
   ]
  }
 ],
 "metadata": {
  "kernelspec": {
   "display_name": "Python 3",
   "language": "python",
   "name": "python3"
  },
  "language_info": {
   "codemirror_mode": {
    "name": "ipython",
    "version": 3
   },
   "file_extension": ".py",
   "mimetype": "text/x-python",
   "name": "python",
   "nbconvert_exporter": "python",
   "pygments_lexer": "ipython3",
   "version": "3.12.11"
  }
 },
 "nbformat": 4,
 "nbformat_minor": 5
}
