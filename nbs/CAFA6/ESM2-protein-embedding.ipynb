{
 "cells": [
  {
   "cell_type": "code",
   "execution_count": 10,
   "id": "16bdf386",
   "metadata": {},
   "outputs": [
    {
     "name": "stdout",
     "output_type": "stream",
     "text": [
      "The autoreload extension is already loaded. To reload it, use:\n",
      "  %reload_ext autoreload\n"
     ]
    }
   ],
   "source": [
    "from transformers import AutoTokenizer, EsmModel\n",
    "from dl_biology.cafa6.helper import extract_data_from_fasta\n",
    "import pandas as pd\n",
    "import torch\n",
    "import seaborn as sns\n",
    "%load_ext autoreload\n",
    "%autoreload 2"
   ]
  },
  {
   "cell_type": "code",
   "execution_count": 5,
   "id": "c8fa8d9e",
   "metadata": {},
   "outputs": [],
   "source": [
    "# filepaths to fasta\n",
    "path_to_fasta_train = \"/Users/tungvuduc/Desktop/PhD/projects/repos/Deep-learning-for-biology/data/kaggle/cafa-6-protein-function-prediction/Train/train_sequences.fasta\"\n",
    "path_to_fasta_test = \"/Users/tungvuduc/Desktop/PhD/projects/repos/Deep-learning-for-biology/data/kaggle/cafa-6-protein-function-prediction/Test/testsuperset.fasta\"\n",
    "\n",
    "# filepath to GO terms\n",
    "path_to_go_term_train = \"/Users/tungvuduc/Desktop/PhD/projects/repos/Deep-learning-for-biology/data/kaggle/cafa-6-protein-function-prediction/Train/train_terms.tsv\""
   ]
  },
  {
   "cell_type": "code",
   "execution_count": 6,
   "id": "d92dbdc9",
   "metadata": {},
   "outputs": [
    {
     "data": {
      "text/html": [
       "<div>\n",
       "<style scoped>\n",
       "    .dataframe tbody tr th:only-of-type {\n",
       "        vertical-align: middle;\n",
       "    }\n",
       "\n",
       "    .dataframe tbody tr th {\n",
       "        vertical-align: top;\n",
       "    }\n",
       "\n",
       "    .dataframe thead th {\n",
       "        text-align: right;\n",
       "    }\n",
       "</style>\n",
       "<table border=\"1\" class=\"dataframe\">\n",
       "  <thead>\n",
       "    <tr style=\"text-align: right;\">\n",
       "      <th></th>\n",
       "      <th>EntryID</th>\n",
       "      <th>term</th>\n",
       "      <th>aspect</th>\n",
       "    </tr>\n",
       "  </thead>\n",
       "  <tbody>\n",
       "    <tr>\n",
       "      <th>0</th>\n",
       "      <td>Q5W0B1</td>\n",
       "      <td>GO:0000785</td>\n",
       "      <td>C</td>\n",
       "    </tr>\n",
       "    <tr>\n",
       "      <th>1</th>\n",
       "      <td>Q5W0B1</td>\n",
       "      <td>GO:0004842</td>\n",
       "      <td>F</td>\n",
       "    </tr>\n",
       "    <tr>\n",
       "      <th>2</th>\n",
       "      <td>Q5W0B1</td>\n",
       "      <td>GO:0051865</td>\n",
       "      <td>P</td>\n",
       "    </tr>\n",
       "    <tr>\n",
       "      <th>3</th>\n",
       "      <td>Q5W0B1</td>\n",
       "      <td>GO:0006275</td>\n",
       "      <td>P</td>\n",
       "    </tr>\n",
       "    <tr>\n",
       "      <th>4</th>\n",
       "      <td>Q5W0B1</td>\n",
       "      <td>GO:0006513</td>\n",
       "      <td>P</td>\n",
       "    </tr>\n",
       "    <tr>\n",
       "      <th>...</th>\n",
       "      <td>...</td>\n",
       "      <td>...</td>\n",
       "      <td>...</td>\n",
       "    </tr>\n",
       "    <tr>\n",
       "      <th>537022</th>\n",
       "      <td>Q06667</td>\n",
       "      <td>GO:0070481</td>\n",
       "      <td>P</td>\n",
       "    </tr>\n",
       "    <tr>\n",
       "      <th>537023</th>\n",
       "      <td>B1NF19</td>\n",
       "      <td>GO:0033075</td>\n",
       "      <td>P</td>\n",
       "    </tr>\n",
       "    <tr>\n",
       "      <th>537024</th>\n",
       "      <td>B1NF19</td>\n",
       "      <td>GO:0047052</td>\n",
       "      <td>F</td>\n",
       "    </tr>\n",
       "    <tr>\n",
       "      <th>537025</th>\n",
       "      <td>B1NF19</td>\n",
       "      <td>GO:0047056</td>\n",
       "      <td>F</td>\n",
       "    </tr>\n",
       "    <tr>\n",
       "      <th>537026</th>\n",
       "      <td>B1NF19</td>\n",
       "      <td>GO:0102632</td>\n",
       "      <td>F</td>\n",
       "    </tr>\n",
       "  </tbody>\n",
       "</table>\n",
       "<p>537027 rows × 3 columns</p>\n",
       "</div>"
      ],
      "text/plain": [
       "       EntryID        term aspect\n",
       "0       Q5W0B1  GO:0000785      C\n",
       "1       Q5W0B1  GO:0004842      F\n",
       "2       Q5W0B1  GO:0051865      P\n",
       "3       Q5W0B1  GO:0006275      P\n",
       "4       Q5W0B1  GO:0006513      P\n",
       "...        ...         ...    ...\n",
       "537022  Q06667  GO:0070481      P\n",
       "537023  B1NF19  GO:0033075      P\n",
       "537024  B1NF19  GO:0047052      F\n",
       "537025  B1NF19  GO:0047056      F\n",
       "537026  B1NF19  GO:0102632      F\n",
       "\n",
       "[537027 rows x 3 columns]"
      ]
     },
     "execution_count": 6,
     "metadata": {},
     "output_type": "execute_result"
    }
   ],
   "source": [
    "# let's read the data\n",
    "train_terms = pd.read_csv(path_to_go_term_train, delimiter=\"\\t\")\n",
    "train_terms"
   ]
  },
  {
   "cell_type": "code",
   "execution_count": 11,
   "id": "eaea2056",
   "metadata": {},
   "outputs": [
    {
     "data": {
      "text/plain": [
       "<Axes: xlabel='length', ylabel='Count'>"
      ]
     },
     "execution_count": 11,
     "metadata": {},
     "output_type": "execute_result"
    },
    {
     "data": {
      "image/png": "[encoded data removed]",
      "text/plain": [
       "<Figure size 640x480 with 1 Axes>"
      ]
     },
     "metadata": {},
     "output_type": "display_data"
    }
   ],
   "source": [
    "sns.histplot(extract_data_from_fasta(path_to_fasta_train)[\"length\"])"
   ]
  },
  {
   "cell_type": "code",
   "execution_count": null,
   "id": "298b310c",
   "metadata": {},
   "outputs": [],
   "source": [
    "model_checkpoint = \"facebook/esm2_t33_650M_UR50D\"\n",
    "model = EsmModel.from_pretrained(model_checkpoint)\n",
    "tokenizer = AutoTokenizer.from_pretrained(model_checkpoint)\n",
    "sequences = extract_data_from_fasta(path_to_fasta_train)[\"sequence\"].tolist()\n",
    "device = torch.device(\"cuda\" if torch.cuda.is_available() else \"cpu\")\n"
   ]
  },
  {
   "cell_type": "code",
   "execution_count": null,
   "id": "13ae085b",
   "metadata": {},
   "outputs": [],
   "source": [
    "\n",
    "class FastaSequenceDataset(nn.Dataset)"
   ]
  },
  {
   "cell_type": "code",
   "execution_count": 45,
   "id": "14724bab",
   "metadata": {},
   "outputs": [
    {
     "name": "stderr",
     "output_type": "stream",
     "text": [
      "Some weights of EsmModel were not initialized from the model checkpoint at facebook/esm2_t33_650M_UR50D and are newly initialized: ['pooler.dense.bias', 'pooler.dense.weight']\n",
      "You should probably TRAIN this model on a down-stream task to be able to use it for predictions and inference.\n"
     ]
    },
    {
     "name": "stdout",
     "output_type": "stream",
     "text": [
      "Extracting sequences from FASTA...\n",
      "Computing input embeddings for 82404 sequences...\n"
     ]
    },
    {
     "name": "stderr",
     "output_type": "stream",
     "text": [
      "Processing batches:  40%|███▉      | 33/83 [01:04<01:38,  1.96s/it]"
     ]
    },
    {
     "ename": "",
     "evalue": "",
     "output_type": "error",
     "traceback": [
      "\u001b[1;31mThe Kernel crashed while executing code in the current cell or a previous cell. \n",
      "\u001b[1;31mPlease review the code in the cell(s) to identify a possible cause of the failure. \n",
      "\u001b[1;31mClick <a href='https://aka.ms/vscodeJupyterKernelCrash'>here</a> for more info. \n",
      "\u001b[1;31mView Jupyter <a href='command:jupyter.viewOutput'>log</a> for further details."
     ]
    }
   ],
   "source": [
    "model_checkpoint = \"facebook/esm2_t33_650M_UR50D\"\n",
    "model = EsmModel.from_pretrained(model_checkpoint)\n",
    "tokenizer = AutoTokenizer.from_pretrained(model_checkpoint)\n",
    "sequences = extract_data_from_fasta(path_to_fasta_train)[\"sequence\"].tolist()\n",
    "device = torch.device(\"cuda\" if torch.cuda.is_available() else \"cpu\")\n",
    "\n",
    "input_embeddings_dict, hidden_embeddings_dict = process_fasta_to_both_embeddings(\n",
    "    fasta_path=path_to_fasta_train, \n",
    "    model=model, \n",
    "    tokenizer=tokenizer, \n",
    "    device=device,\n",
    "    input_output_path=None,\n",
    "    hidden_output_path=None,\n",
    "    input_batch_size=1000,\n",
    "    hidden_batch_size=32,\n",
    "    force_recompute=False\n",
    ")"
   ]
  }
 ],
 "metadata": {
  "kernelspec": {
   "display_name": "deep-learning-for-biology",
   "language": "python",
   "name": "python3"
  },
  "language_info": {
   "codemirror_mode": {
    "name": "ipython",
    "version": 3
   },
   "file_extension": ".py",
   "mimetype": "text/x-python",
   "name": "python",
   "nbconvert_exporter": "python",
   "pygments_lexer": "ipython3",
   "version": "3.12.11"
  }
 },
 "nbformat": 4,
 "nbformat_minor": 5
}
