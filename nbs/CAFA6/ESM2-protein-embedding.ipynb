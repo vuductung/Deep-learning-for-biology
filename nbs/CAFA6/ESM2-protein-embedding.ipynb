{
 "cells": [
  {
   "cell_type": "code",
   "execution_count": 2,
   "id": "16bdf386",
   "metadata": {},
   "outputs": [
    {
     "name": "stderr",
     "output_type": "stream",
     "text": [
      "/Users/tungvuduc/opt/anaconda3/envs/dlbio_arm64/lib/python3.12/site-packages/tqdm/auto.py:21: TqdmWarning: IProgress not found. Please update jupyter and ipywidgets. See https://ipywidgets.readthedocs.io/en/stable/user_install.html\n",
      "  from .autonotebook import tqdm as notebook_tqdm\n"
     ]
    }
   ],
   "source": [
    "import pandas as pd\n",
    "import torch\n",
    "# import seaborn as sns\n",
    "from dl_biology.cafa6.embedding import EmbeddingGenerator\n",
    "%load_ext autoreload\n",
    "%autoreload 2"
   ]
  },
  {
   "cell_type": "code",
   "execution_count": 3,
   "id": "c8fa8d9e",
   "metadata": {},
   "outputs": [],
   "source": [
    "# filepaths to fasta\n",
    "path_to_fasta_train = \"/Users/tungvuduc/Desktop/PhD/projects/repos/Deep-learning-for-biology/data/kaggle/cafa-6-protein-function-prediction/Train/train_sequences.fasta\"\n",
    "path_to_fasta_test = \"/Users/tungvuduc/Desktop/PhD/projects/repos/Deep-learning-for-biology/data/kaggle/cafa-6-protein-function-prediction/Test/testsuperset.fasta\"\n",
    "\n",
    "# filepath to GO terms\n",
    "path_to_go_term_train = \"/Users/tungvuduc/Desktop/PhD/projects/repos/Deep-learning-for-biology/data/kaggle/cafa-6-protein-function-prediction/Train/train_terms.tsv\""
   ]
  },
  {
   "cell_type": "code",
   "execution_count": 7,
   "id": "80e9f3cf",
   "metadata": {},
   "outputs": [
    {
     "name": "stderr",
     "output_type": "stream",
     "text": [
      "Some weights of EsmModel were not initialized from the model checkpoint at facebook/esm2_t33_650M_UR50D and are newly initialized: ['pooler.dense.bias', 'pooler.dense.weight']\n",
      "You should probably TRAIN this model on a down-stream task to be able to use it for predictions and inference.\n",
      "16it [07:23, 27.71s/it]\n"
     ]
    }
   ],
   "source": [
    "device = torch.device(\"mps\" if torch.backends.mps.is_available() else \"cpu\")\n",
    "\n",
    "embed_gen = EmbeddingGenerator(device=device, model_checkpoint=\"facebook/esm2_t33_650M_UR50D\")\n",
    "\n",
    "output_dir = \"/Users/tungvuduc/Desktop/PhD/projects/repos/Deep-learning-for-biology/data/kaggle/cafa-6-protein-function-prediction/train_hidden_states\"\n",
    "fasta_file = \"/Users/tungvuduc/Desktop/PhD/projects/repos/Deep-learning-for-biology/data/kaggle/cafa-6-protein-function-prediction/Train/train_sequences.fasta\"\n",
    "embed_gen.generate_embedding(\n",
    "    output_dir=output_dir,\n",
    "    fasta_file=fasta_file,\n",
    "    batch_size=64,\n",
    "    max_length=1024\n",
    ")"
   ]
  }
 ],
 "metadata": {
  "kernelspec": {
   "display_name": "dlbio_arm64",
   "language": "python",
   "name": "python3"
  },
  "language_info": {
   "codemirror_mode": {
    "name": "ipython",
    "version": 3
   },
   "file_extension": ".py",
   "mimetype": "text/x-python",
   "name": "python",
   "nbconvert_exporter": "python",
   "pygments_lexer": "ipython3",
   "version": "3.12.12"
  }
 },
 "nbformat": 4,
 "nbformat_minor": 5
}
