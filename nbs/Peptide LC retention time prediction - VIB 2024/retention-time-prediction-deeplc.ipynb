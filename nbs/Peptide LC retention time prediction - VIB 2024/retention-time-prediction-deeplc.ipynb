{
 "cells": [
  {
   "cell_type": "code",
   "execution_count": null,
   "id": "85378fc8",
   "metadata": {},
   "outputs": [],
   "source": [
    "from sklearn.linear_model import LinearRegression\n",
    "from sklearn.preprocessing import StandardScaler\n",
    "import numpy as np\n",
    "import pandas as pd\n",
    "from dl_biology.helper import aa_encoder\n",
    "import jax\n",
    "import seaborn as sns\n",
    "import matplotlib.pyplot as plt\n",
    "from psm_utils.psm import PSM\n",
    "from psm_utils.psm_list import PSMList\n",
    "from psm_utils.io import write_file\n",
    "from deeplc import DeepLC\n",
    "import pandas as pd\n",
    "from matplotlib import pyplot as plt"
   ]
  },
  {
   "cell_type": "code",
   "execution_count": null,
   "id": "720b1203",
   "metadata": {},
   "outputs": [],
   "source": [
    "# import data first\n",
    "filepath = \"/Users/tungvuduc/Desktop/PhD/projects/repos/Deep-learning-for-biology/data/kaggle/peptide-lc-retention-time-prediction/test.csv\"\n",
    "test_data = pd.read_csv(filepath)\n",
    "\n",
    "filepath = \"/Users/tungvuduc/Desktop/PhD/projects/repos/Deep-learning-for-biology/data/kaggle/peptide-lc-retention-time-prediction/train.csv\"\n",
    "train_data = pd.read_csv(filepath)\n",
    "X_train = train_data[[\"PeptideSequence\", \"Modifications\"]].iloc[:8000]\n",
    "y_train = train_data[[\"RetentionTime\"]].iloc[:8000]\n",
    "\n",
    "X_val = train_data[[\"PeptideSequence\", \"Modifications\"]].iloc[8000:]\n",
    "y_val = train_data[[\"RetentionTime\"]].iloc[8000:].values"
   ]
  },
  {
   "cell_type": "code",
   "execution_count": null,
   "id": "f3d6e8b6",
   "metadata": {},
   "outputs": [],
   "source": [
    "psm_list = []\n",
    "\n",
    "train_data.fillna(\"\",inplace=True)\n",
    "\n",
    "for idx,row in train_data.iterrows():\n",
    "    seq = row[\"PeptideSequence\"]\n",
    "    psm_list.append(PSM(peptidoform=seq,spectrum_id=idx))\n",
    "\n",
    "psm_list = PSMList(psm_list=psm_list)\n",
    "\n",
    "dlc = DeepLC()\n",
    "preds = dlc.make_preds(psm_list,calibrate=False)"
   ]
  },
  {
   "cell_type": "code",
   "execution_count": null,
   "id": "f31a3e30",
   "metadata": {},
   "outputs": [],
   "source": []
  }
 ],
 "metadata": {
  "kernelspec": {
   "display_name": "deep-learning-for-biology",
   "language": "python",
   "name": "python3"
  },
  "language_info": {
   "codemirror_mode": {
    "name": "ipython",
    "version": 3
   },
   "file_extension": ".py",
   "mimetype": "text/x-python",
   "name": "python",
   "nbconvert_exporter": "python",
   "pygments_lexer": "ipython3",
   "version": "3.12.11"
  }
 },
 "nbformat": 4,
 "nbformat_minor": 5
}
